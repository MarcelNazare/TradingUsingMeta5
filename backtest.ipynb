{
 "cells": [
  {
   "cell_type": "code",
   "execution_count": null,
   "id": "bacad507",
   "metadata": {},
   "outputs": [],
   "source": [
    "#import backtesting\n",
    "import backtesting"
   ]
  }
 ],
 "metadata": {
  "kernelspec": {
   "display_name": "spyder-runtime",
   "language": "python",
   "name": "python3"
  },
  "language_info": {
   "name": "python",
   "version": "3.11.12"
  }
 },
 "nbformat": 4,
 "nbformat_minor": 5
}
