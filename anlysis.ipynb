{
 "cells": [
  {
   "cell_type": "code",
   "execution_count": 23,
   "id": "2c8b3aa9",
   "metadata": {},
   "outputs": [
    {
     "data": {
      "application/vnd.microsoft.datawrangler.viewer.v0+json": {
       "columns": [
        {
         "name": "index",
         "rawType": "int64",
         "type": "integer"
        },
        {
         "name": "close",
         "rawType": "float64",
         "type": "float"
        }
       ],
       "ref": "f1b1254f-d383-4592-9479-f7ac0f26446d",
       "rows": [
        [
         "0",
         "1.1749"
        ],
        [
         "1",
         "1.17489"
        ],
        [
         "2",
         "1.17491"
        ],
        [
         "3",
         "1.17491"
        ],
        [
         "4",
         "1.17497"
        ],
        [
         "5",
         "1.17499"
        ],
        [
         "6",
         "1.17496"
        ],
        [
         "7",
         "1.17497"
        ],
        [
         "8",
         "1.17497"
        ],
        [
         "9",
         "1.17497"
        ],
        [
         "10",
         "1.17498"
        ],
        [
         "11",
         "1.17496"
        ],
        [
         "12",
         "1.17495"
        ],
        [
         "13",
         "1.17502"
        ],
        [
         "14",
         "1.17503"
        ],
        [
         "15",
         "1.17498"
        ],
        [
         "16",
         "1.17492"
        ],
        [
         "17",
         "1.17489"
        ],
        [
         "18",
         "1.17487"
        ],
        [
         "19",
         "1.17485"
        ],
        [
         "20",
         "1.17482"
        ],
        [
         "21",
         "1.17471"
        ],
        [
         "22",
         "1.17479"
        ],
        [
         "23",
         "1.17487"
        ],
        [
         "24",
         "1.17476"
        ],
        [
         "25",
         "1.17477"
        ],
        [
         "26",
         "1.17478"
        ],
        [
         "27",
         "1.17478"
        ],
        [
         "28",
         "1.17483"
        ],
        [
         "29",
         "1.17481"
        ],
        [
         "30",
         "1.17482"
        ],
        [
         "31",
         "1.17476"
        ],
        [
         "32",
         "1.17476"
        ],
        [
         "33",
         "1.17468"
        ],
        [
         "34",
         "1.17478"
        ],
        [
         "35",
         "1.17479"
        ],
        [
         "36",
         "1.17479"
        ],
        [
         "37",
         "1.17485"
        ],
        [
         "38",
         "1.17492"
        ],
        [
         "39",
         "1.17492"
        ],
        [
         "40",
         "1.17491"
        ],
        [
         "41",
         "1.17496"
        ],
        [
         "42",
         "1.17497"
        ],
        [
         "43",
         "1.17499"
        ],
        [
         "44",
         "1.17499"
        ],
        [
         "45",
         "1.17496"
        ],
        [
         "46",
         "1.17497"
        ],
        [
         "47",
         "1.17495"
        ],
        [
         "48",
         "1.17479"
        ],
        [
         "49",
         "1.17477"
        ]
       ],
       "shape": {
        "columns": 1,
        "rows": 1000
       }
      },
      "text/plain": [
       "0      1.17490\n",
       "1      1.17489\n",
       "2      1.17491\n",
       "3      1.17491\n",
       "4      1.17497\n",
       "        ...   \n",
       "995    1.17273\n",
       "996    1.17281\n",
       "997    1.17283\n",
       "998    1.17254\n",
       "999    1.17252\n",
       "Name: close, Length: 1000, dtype: float64"
      ]
     },
     "execution_count": 23,
     "metadata": {},
     "output_type": "execute_result"
    }
   ],
   "source": [
    "import pandas as pd\n",
    "df = pd.read_csv('eurusd_rates.csv')\n",
    "\n",
    "df['close']"
   ]
  },
  {
   "cell_type": "code",
   "execution_count": null,
   "id": "addd60eb",
   "metadata": {},
   "outputs": [],
   "source": []
  },
  {
   "cell_type": "code",
   "execution_count": 24,
   "id": "e2ed0640",
   "metadata": {},
   "outputs": [
    {
     "name": "stdout",
     "output_type": "stream",
     "text": [
      "('EURUSD', 'JPYUSD', 'CADUSD')\n",
      "0 --> EURUSD\n",
      "1 --> JPYUSD\n",
      "2 --> CADUSD\n"
     ]
    }
   ],
   "source": [
    "symbols = ('EURUSD','JPYUSD','CADUSD',)\n",
    "print(symbols)\n",
    "len(symbols)\n",
    "for i in range(len(symbols)):\n",
    "    print(f\"{i} --> {symbols[i]}\")"
   ]
  },
  {
   "cell_type": "code",
   "execution_count": 25,
   "id": "de2bd928",
   "metadata": {},
   "outputs": [
    {
     "name": "stdout",
     "output_type": "stream",
     "text": [
      "('EURUSD', 'JPYUSD', 'CADUSD', 'XAUUSD')\n",
      "0 --> EURUSD\n",
      "1 --> JPYUSD\n",
      "2 --> CADUSD\n",
      "3 --> XAUUSD\n"
     ]
    }
   ],
   "source": [
    "symbols = ('EURUSD','JPYUSD','CADUSD','XAUUSD')\n",
    "def select_symbol(symbols):\n",
    "    print(symbols)\n",
    "    for symbol in range(len(symbols)):\n",
    "        print(f\"{symbol} --> {symbols[symbol]}\")\n",
    "select_symbol(symbols)"
   ]
  },
  {
   "cell_type": "code",
   "execution_count": 26,
   "id": "94ae15fd",
   "metadata": {},
   "outputs": [
    {
     "name": "stdout",
     "output_type": "stream",
     "text": [
      "You selecte EURUSD\n"
     ]
    }
   ],
   "source": [
    "\n",
    "selector = int(input(\"Select Trading Pair\"))\n",
    "selected_symbol  = symbols[selector]\n",
    "\n",
    "print(f\"You selecte {symbols[selector]}\")\n",
    "\n"
   ]
  },
  {
   "cell_type": "code",
   "execution_count": 27,
   "id": "1e89bdd9",
   "metadata": {},
   "outputs": [
    {
     "name": "stdout",
     "output_type": "stream",
     "text": [
      "0 --> EURUSD\n",
      "1 --> JPYUSD\n",
      "2 --> CADUSD\n",
      "3 --> XAUUSD\n"
     ]
    },
    {
     "data": {
      "text/plain": [
       "'EURUSD'"
      ]
     },
     "execution_count": 27,
     "metadata": {},
     "output_type": "execute_result"
    }
   ],
   "source": [
    "def select_symbol(symbols):\n",
    "    for symbol in range(len(symbols)):\n",
    "        print(f\"{symbol} --> {symbols[symbol]}\")\n",
    "    selector = int(input(\"Select Trading Pair\"))\n",
    "    selected_symbol  = symbols[selector]\n",
    "    return selected_symbol\n",
    "\n",
    "\n",
    "select_symbol(symbols)"
   ]
  },
  {
   "cell_type": "code",
   "execution_count": 28,
   "id": "5cbcfee7",
   "metadata": {},
   "outputs": [
    {
     "name": "stdout",
     "output_type": "stream",
     "text": [
      "{'TM-1M': 1, 'TM-5M': 5, 'TM-15M': 15, 'TM-30M': 30, 'TM-1H': 16385, 'TM-4H': 16388, 'TM-1D': 16408, 'TM-1W': 32769}\n",
      "dict_keys(['TM-1M', 'TM-5M', 'TM-15M', 'TM-30M', 'TM-1H', 'TM-4H', 'TM-1D', 'TM-1W'])---1\n",
      "dict_keys(['TM-1M', 'TM-5M', 'TM-15M', 'TM-30M', 'TM-1H', 'TM-4H', 'TM-1D', 'TM-1W'])---5\n",
      "dict_keys(['TM-1M', 'TM-5M', 'TM-15M', 'TM-30M', 'TM-1H', 'TM-4H', 'TM-1D', 'TM-1W'])---15\n",
      "dict_keys(['TM-1M', 'TM-5M', 'TM-15M', 'TM-30M', 'TM-1H', 'TM-4H', 'TM-1D', 'TM-1W'])---30\n",
      "dict_keys(['TM-1M', 'TM-5M', 'TM-15M', 'TM-30M', 'TM-1H', 'TM-4H', 'TM-1D', 'TM-1W'])---16385\n",
      "dict_keys(['TM-1M', 'TM-5M', 'TM-15M', 'TM-30M', 'TM-1H', 'TM-4H', 'TM-1D', 'TM-1W'])---16388\n",
      "dict_keys(['TM-1M', 'TM-5M', 'TM-15M', 'TM-30M', 'TM-1H', 'TM-4H', 'TM-1D', 'TM-1W'])---16408\n",
      "dict_keys(['TM-1M', 'TM-5M', 'TM-15M', 'TM-30M', 'TM-1H', 'TM-4H', 'TM-1D', 'TM-1W'])---32769\n"
     ]
    }
   ],
   "source": [
    "import MetaTrader5 as mt\n",
    "timeframes ={\n",
    "    \"TM-1M\" : mt.TIMEFRAME_M1,\n",
    "    \"TM-5M\" : mt.TIMEFRAME_M5,\n",
    "    \"TM-15M\": mt.TIMEFRAME_M15,\n",
    "    \"TM-30M\": mt.TIMEFRAME_M30,\n",
    "    \"TM-1H\": mt.TIMEFRAME_H1,\n",
    "    \"TM-4H\": mt.TIMEFRAME_H4,\n",
    "    \"TM-1D\": mt.TIMEFRAME_D1,\n",
    "    \"TM-1W\": mt.TIMEFRAME_W1,\n",
    "}\n",
    "\n",
    "\n",
    "print(timeframes)\n",
    "timeframes.keys()\n",
    "\n",
    "for timeframe in timeframes:\n",
    "    print(f\"{timeframes.keys()}---{timeframes[timeframe]}\")\n",
    "\n"
   ]
  },
  {
   "cell_type": "code",
   "execution_count": null,
   "id": "f4531062",
   "metadata": {},
   "outputs": [],
   "source": [
    "from datetime import datetime\n",
    "import pandas as pd\n",
    "timeframes = [1,2,3,4,5]\n",
    "CSV_PATH = '/csv/'\n",
    "def save_to_csv(data, filename=\"rates.csv\") -> None:\n",
    "    #Save the DataFrame to a CSV file.\n",
    "    name = filename\n",
    "    date = datetime.now()\n",
    "    file =f\"{CSV_PATH}/{name}-{date}\"\n",
    "    file = filename\n",
    "    data.to_csv(filename, index=True)\n",
    "    print(f\"Data saved to {file}\")\n",
    "\n"
   ]
  },
  {
   "cell_type": "code",
   "execution_count": 30,
   "id": "f32ee7aa",
   "metadata": {},
   "outputs": [],
   "source": [
    "# Itarating through a dict\n",
    "import MetaTrader5 as mt\n",
    "mytimeframes ={\n",
    "    \"TM-I-MINUTE\" : mt.TIMEFRAME_M1,\n",
    "    \"TM-5-MINUTE\" : mt.TIMEFRAME_M5,\n",
    "    \"TM-15-MINuTE\": mt.TIMEFRAME_M15,\n",
    "    \"TM-30-MINUTE\": mt.TIMEFRAME_M30,\n",
    "    \"TM-1-HOUR\": mt.TIMEFRAME_H1,\n",
    "    \"TM-4-HOUR\": mt.TIMEFRAME_H4,\n",
    "    \"TM-1-DAY\": mt.TIMEFRAME_D1,\n",
    "    \"TM-1-WEEK\": mt.TIMEFRAME_W1,\n",
    "}\n",
    "#vals = timeframes.values()\n",
    "#print(vals)\n",
    "\n",
    "#items = timeframes.items()\n",
    "#print(items)\n",
    "#keys = timeframes.keys()\n",
    "#print(keys)\n",
    "#new_list = list(keys)\n",
    "#print(new_list)\n",
    "\n",
    "\n",
    "def select_timeframe(timeframes):\n",
    "    time_frame_list = list(timeframes.keys())\n",
    "    new_list = time_frame_list\n",
    "    for marker in range(len(new_list)):\n",
    "        print(f\"Type {marker} for {new_list[marker]}\")\n",
    "    marker_selector = int(input(\"Choose Time Frame -> \"))\n",
    "    #print(new_list[0])\n",
    "    selected_timeframe = timeframes[new_list[marker_selector]]\n",
    "    timeframe_marker = new_list[marker_selector]\n",
    "    return selected_timeframe, timeframe_marker\n",
    "\n",
    "\n",
    "    \n",
    "   \n",
    "\n",
    "\n"
   ]
  },
  {
   "cell_type": "code",
   "execution_count": null,
   "id": "9caa72b1",
   "metadata": {},
   "outputs": [
    {
     "name": "stdout",
     "output_type": "stream",
     "text": [
      "Type 0 for TM-I-MINUTE\n",
      "Type 1 for TM-5-MINUTE\n",
      "Type 2 for TM-15-MINuTE\n",
      "Type 3 for TM-30-MINUTE\n",
      "Type 4 for TM-1-HOUR\n",
      "Type 5 for TM-4-HOUR\n",
      "Type 6 for TM-1-DAY\n",
      "Type 7 for TM-1-WEEK\n",
      "You chose the TM-I-MINUTE timeframe\n"
     ]
    }
   ],
   "source": [
    "time_frame_selected = select_timeframe(mytimeframes)\n",
    "time_frame_marker = time_frame_selected[0]\n",
    "chosen_time_frame = time_frame_selected[1]\n",
    "print(f\"You chose the {chosen_time_frame} timeframe\")\n",
    "\n"
   ]
  },
  {
   "cell_type": "code",
   "execution_count": 32,
   "id": "fe936a47",
   "metadata": {},
   "outputs": [],
   "source": [
    "def range_selector()->int:\n",
    "    select_range = int(input(\"Select the ange of the data you want to collect\\nWe recommend 1000 to 1500\"))\n",
    "    if select_range < 1000 or select_range > 1500:\n",
    "        print(\"Retry and make sure you enter a number between 1000 and 1500\")\n",
    "        range_selector()\n",
    "        return select_range\n",
    "    else:\n",
    "        return select_range"
   ]
  },
  {
   "cell_type": "code",
   "execution_count": 33,
   "id": "077b51e3",
   "metadata": {},
   "outputs": [
    {
     "data": {
      "application/vnd.microsoft.datawrangler.viewer.v0+json": {
       "columns": [
        {
         "name": "index",
         "rawType": "int64",
         "type": "integer"
        },
        {
         "name": "high",
         "rawType": "float64",
         "type": "float"
        }
       ],
       "ref": "cd96d0cc-6793-47b1-9057-2e605abea66a",
       "rows": [
        [
         "0",
         "1.17497"
        ],
        [
         "1",
         "1.1749"
        ],
        [
         "2",
         "1.17491"
        ],
        [
         "3",
         "1.17495"
        ],
        [
         "4",
         "1.17498"
        ],
        [
         "5",
         "1.17499"
        ],
        [
         "6",
         "1.17498"
        ],
        [
         "7",
         "1.17497"
        ],
        [
         "8",
         "1.17498"
        ],
        [
         "9",
         "1.17498"
        ],
        [
         "10",
         "1.17498"
        ],
        [
         "11",
         "1.17497"
        ],
        [
         "12",
         "1.17497"
        ],
        [
         "13",
         "1.17504"
        ],
        [
         "14",
         "1.17503"
        ],
        [
         "15",
         "1.17503"
        ],
        [
         "16",
         "1.17499"
        ],
        [
         "17",
         "1.17493"
        ],
        [
         "18",
         "1.17507"
        ],
        [
         "19",
         "1.17492"
        ],
        [
         "20",
         "1.17486"
        ],
        [
         "21",
         "1.17483"
        ],
        [
         "22",
         "1.17479"
        ],
        [
         "23",
         "1.17494"
        ],
        [
         "24",
         "1.1749"
        ],
        [
         "25",
         "1.17479"
        ],
        [
         "26",
         "1.17478"
        ],
        [
         "27",
         "1.17479"
        ],
        [
         "28",
         "1.17485"
        ],
        [
         "29",
         "1.17484"
        ],
        [
         "30",
         "1.17482"
        ],
        [
         "31",
         "1.17481"
        ],
        [
         "32",
         "1.17476"
        ],
        [
         "33",
         "1.17478"
        ],
        [
         "34",
         "1.17479"
        ],
        [
         "35",
         "1.17482"
        ],
        [
         "36",
         "1.17483"
        ],
        [
         "37",
         "1.17486"
        ],
        [
         "38",
         "1.17492"
        ],
        [
         "39",
         "1.17492"
        ],
        [
         "40",
         "1.17492"
        ],
        [
         "41",
         "1.17498"
        ],
        [
         "42",
         "1.17497"
        ],
        [
         "43",
         "1.17499"
        ],
        [
         "44",
         "1.17499"
        ],
        [
         "45",
         "1.17499"
        ],
        [
         "46",
         "1.17497"
        ],
        [
         "47",
         "1.17497"
        ],
        [
         "48",
         "1.17496"
        ],
        [
         "49",
         "1.17482"
        ]
       ],
       "shape": {
        "columns": 1,
        "rows": 1000
       }
      },
      "text/plain": [
       "0      1.17497\n",
       "1      1.17490\n",
       "2      1.17491\n",
       "3      1.17495\n",
       "4      1.17498\n",
       "        ...   \n",
       "995    1.17276\n",
       "996    1.17285\n",
       "997    1.17292\n",
       "998    1.17284\n",
       "999    1.17254\n",
       "Name: high, Length: 1000, dtype: float64"
      ]
     },
     "execution_count": 33,
     "metadata": {},
     "output_type": "execute_result"
    }
   ],
   "source": [
    "df.columns\n",
    "df['high']"
   ]
  },
  {
   "cell_type": "markdown",
   "id": "548895f1",
   "metadata": {},
   "source": [
    "# Average Directional Index"
   ]
  },
  {
   "cell_type": "code",
   "execution_count": 42,
   "id": "78ee9ce7",
   "metadata": {},
   "outputs": [],
   "source": [
    "import pandas as pd\n",
    "import numpy as np\n",
    "\n",
    "\n",
    "\n",
    "def calculate_adx(data,period:int):\n",
    "    df = data\n",
    "    #Calculate Directional Movement (DM)\n",
    "    df['upMove'] = df['high'] -df['high'].shift(1)\n",
    "    df['downMove'] = df['low'].shift(1) - df['low']\n",
    "    df['+DM'] = np.where((df['upMove']>df['downMove']) & (df['upMove']>0),df['upMove'],0)\n",
    "    df['-DM'] = np.where((df['downMove']>df['upMove']) & (df['downMove']>0),df['downMove'],0)\n",
    "    print(\"WE GOt HERE\")\n",
    "    # Calculating True Range (TR)\n",
    "    df['TR1'] = df['high'] - df['low']\n",
    "    df['TR2'] = abs(df['high']-df['close'].shift(1))\n",
    "    df['TR3'] = abs(df['low']-df['close'].shift(1))\n",
    "    df['TR'] = df[['TR1','TR2','TR3']].max(axis=1)\n",
    "    # Calculating Avarege True Range (ATR)\n",
    "    df['ATR'] = df['TR'].ewm(span=period,adjust=False).mean()\n",
    "    # Calculating Directional Indicators (DI)\n",
    "    df['+DI'] = 100 * (df['+DM'].ewm(span=period,adjust=False).mean()/df['ATR'])\n",
    "    df['-DI'] = 100 * (df['-DM'].ewm(span=period,adjust=False).mean()/df['ATR'])\n",
    "    # Calculating Directional Incex (DX)\n",
    "    df['DX'] =  100 * (abs(df['+DI'] - df['-DI'])/(df['-DI'] + df['-DI']))\n",
    "    # Calculate Average Directional Index (ADX)\n",
    "    df['ADX'] = df['DX'].ewm(span=period,adjust=False).mean()\n",
    "\n",
    "    return df['ADX'].avg()\n",
    "\n",
    "    "
   ]
  },
  {
   "cell_type": "code",
   "execution_count": 43,
   "id": "182c5463",
   "metadata": {},
   "outputs": [
    {
     "ename": "TypeError",
     "evalue": "DataFrame object does not support `Series` assignment by index\n\nUse `DataFrame.with_columns`.",
     "output_type": "error",
     "traceback": [
      "\u001b[1;31m---------------------------------------------------------------------------\u001b[0m",
      "\u001b[1;31mTypeError\u001b[0m                                 Traceback (most recent call last)",
      "\u001b[1;32m~\\AppData\\Local\\Temp\\ipykernel_6252\\4235675573.py\u001b[0m in \u001b[0;36m?\u001b[1;34m()\u001b[0m\n\u001b[0;32m      1\u001b[0m \u001b[0mperiod\u001b[0m \u001b[1;33m=\u001b[0m \u001b[1;36m14\u001b[0m\u001b[1;33m\u001b[0m\u001b[1;33m\u001b[0m\u001b[0m\n\u001b[0;32m      2\u001b[0m \u001b[1;33m\u001b[0m\u001b[0m\n\u001b[1;32m----> 3\u001b[1;33m \u001b[0mcalculate_adx\u001b[0m\u001b[1;33m(\u001b[0m\u001b[0mdf\u001b[0m\u001b[1;33m,\u001b[0m\u001b[0mperiod\u001b[0m\u001b[1;33m)\u001b[0m\u001b[1;33m\u001b[0m\u001b[1;33m\u001b[0m\u001b[0m\n\u001b[0m",
      "\u001b[1;32m~\\AppData\\Local\\Temp\\ipykernel_6252\\1875468591.py\u001b[0m in \u001b[0;36m?\u001b[1;34m(data, period)\u001b[0m\n\u001b[0;32m      6\u001b[0m \u001b[1;32mdef\u001b[0m \u001b[0mcalculate_adx\u001b[0m\u001b[1;33m(\u001b[0m\u001b[0mdata\u001b[0m\u001b[1;33m,\u001b[0m\u001b[0mperiod\u001b[0m\u001b[1;33m:\u001b[0m\u001b[0mint\u001b[0m\u001b[1;33m)\u001b[0m\u001b[1;33m:\u001b[0m\u001b[1;33m\u001b[0m\u001b[1;33m\u001b[0m\u001b[0m\n\u001b[0;32m      7\u001b[0m     \u001b[0mdf\u001b[0m \u001b[1;33m=\u001b[0m \u001b[0mdata\u001b[0m\u001b[1;33m\u001b[0m\u001b[1;33m\u001b[0m\u001b[0m\n\u001b[0;32m      8\u001b[0m     \u001b[1;31m#Calculate Directional Movement (DM)\u001b[0m\u001b[1;33m\u001b[0m\u001b[1;33m\u001b[0m\u001b[0m\n\u001b[1;32m----> 9\u001b[1;33m     \u001b[0mdf\u001b[0m\u001b[1;33m[\u001b[0m\u001b[1;34m'upMove'\u001b[0m\u001b[1;33m]\u001b[0m \u001b[1;33m=\u001b[0m \u001b[0mdf\u001b[0m\u001b[1;33m[\u001b[0m\u001b[1;34m'high'\u001b[0m\u001b[1;33m]\u001b[0m \u001b[1;33m-\u001b[0m\u001b[0mdf\u001b[0m\u001b[1;33m[\u001b[0m\u001b[1;34m'high'\u001b[0m\u001b[1;33m]\u001b[0m\u001b[1;33m.\u001b[0m\u001b[0mshift\u001b[0m\u001b[1;33m(\u001b[0m\u001b[1;36m1\u001b[0m\u001b[1;33m)\u001b[0m\u001b[1;33m\u001b[0m\u001b[1;33m\u001b[0m\u001b[0m\n\u001b[0m\u001b[0;32m     10\u001b[0m     \u001b[0mdf\u001b[0m\u001b[1;33m[\u001b[0m\u001b[1;34m'downMove'\u001b[0m\u001b[1;33m]\u001b[0m \u001b[1;33m=\u001b[0m \u001b[0mdf\u001b[0m\u001b[1;33m[\u001b[0m\u001b[1;34m'low'\u001b[0m\u001b[1;33m]\u001b[0m\u001b[1;33m.\u001b[0m\u001b[0mshift\u001b[0m\u001b[1;33m(\u001b[0m\u001b[1;36m1\u001b[0m\u001b[1;33m)\u001b[0m \u001b[1;33m-\u001b[0m \u001b[0mdf\u001b[0m\u001b[1;33m[\u001b[0m\u001b[1;34m'low'\u001b[0m\u001b[1;33m]\u001b[0m\u001b[1;33m\u001b[0m\u001b[1;33m\u001b[0m\u001b[0m\n\u001b[0;32m     11\u001b[0m     \u001b[0mdf\u001b[0m\u001b[1;33m[\u001b[0m\u001b[1;34m'+DM'\u001b[0m\u001b[1;33m]\u001b[0m \u001b[1;33m=\u001b[0m \u001b[0mnp\u001b[0m\u001b[1;33m.\u001b[0m\u001b[0mwhere\u001b[0m\u001b[1;33m(\u001b[0m\u001b[1;33m(\u001b[0m\u001b[0mdf\u001b[0m\u001b[1;33m[\u001b[0m\u001b[1;34m'upMove'\u001b[0m\u001b[1;33m]\u001b[0m\u001b[1;33m>\u001b[0m\u001b[0mdf\u001b[0m\u001b[1;33m[\u001b[0m\u001b[1;34m'downMove'\u001b[0m\u001b[1;33m]\u001b[0m\u001b[1;33m)\u001b[0m \u001b[1;33m&\u001b[0m \u001b[1;33m(\u001b[0m\u001b[0mdf\u001b[0m\u001b[1;33m[\u001b[0m\u001b[1;34m'upMove'\u001b[0m\u001b[1;33m]\u001b[0m\u001b[1;33m>\u001b[0m\u001b[1;36m0\u001b[0m\u001b[1;33m)\u001b[0m\u001b[1;33m,\u001b[0m\u001b[0mdf\u001b[0m\u001b[1;33m[\u001b[0m\u001b[1;34m'upMove'\u001b[0m\u001b[1;33m]\u001b[0m\u001b[1;33m,\u001b[0m\u001b[1;36m0\u001b[0m\u001b[1;33m)\u001b[0m\u001b[1;33m\u001b[0m\u001b[1;33m\u001b[0m\u001b[0m\n\u001b[0;32m     12\u001b[0m     \u001b[0mdf\u001b[0m\u001b[1;33m[\u001b[0m\u001b[1;34m'-DM'\u001b[0m\u001b[1;33m]\u001b[0m \u001b[1;33m=\u001b[0m \u001b[0mnp\u001b[0m\u001b[1;33m.\u001b[0m\u001b[0mwhere\u001b[0m\u001b[1;33m(\u001b[0m\u001b[1;33m(\u001b[0m\u001b[0mdf\u001b[0m\u001b[1;33m[\u001b[0m\u001b[1;34m'downMove'\u001b[0m\u001b[1;33m]\u001b[0m\u001b[1;33m>\u001b[0m\u001b[0mdf\u001b[0m\u001b[1;33m[\u001b[0m\u001b[1;34m'upMove'\u001b[0m\u001b[1;33m]\u001b[0m\u001b[1;33m)\u001b[0m \u001b[1;33m&\u001b[0m \u001b[1;33m(\u001b[0m\u001b[0mdf\u001b[0m\u001b[1;33m[\u001b[0m\u001b[1;34m'downMove'\u001b[0m\u001b[1;33m]\u001b[0m\u001b[1;33m>\u001b[0m\u001b[1;36m0\u001b[0m\u001b[1;33m)\u001b[0m\u001b[1;33m,\u001b[0m\u001b[0mdf\u001b[0m\u001b[1;33m[\u001b[0m\u001b[1;34m'downMove'\u001b[0m\u001b[1;33m]\u001b[0m\u001b[1;33m,\u001b[0m\u001b[1;36m0\u001b[0m\u001b[1;33m)\u001b[0m\u001b[1;33m\u001b[0m\u001b[1;33m\u001b[0m\u001b[0m\n",
      "\u001b[1;32mc:\\Users\\marcel\\AppData\\Local\\spyder-6\\envs\\spyder-runtime\\Lib\\site-packages\\polars\\dataframe\\frame.py\u001b[0m in \u001b[0;36m?\u001b[1;34m(self, key, value)\u001b[0m\n\u001b[0;32m   1497\u001b[0m             msg = (\n\u001b[0;32m   1498\u001b[0m                 \u001b[1;34m\"DataFrame object does not support `Series` assignment by index\"\u001b[0m\u001b[1;33m\u001b[0m\u001b[1;33m\u001b[0m\u001b[0m\n\u001b[0;32m   1499\u001b[0m                 \u001b[1;34m\"\\n\\nUse `DataFrame.with_columns`.\"\u001b[0m\u001b[1;33m\u001b[0m\u001b[1;33m\u001b[0m\u001b[0m\n\u001b[0;32m   1500\u001b[0m             )\n\u001b[1;32m-> 1501\u001b[1;33m             \u001b[1;32mraise\u001b[0m \u001b[0mTypeError\u001b[0m\u001b[1;33m(\u001b[0m\u001b[0mmsg\u001b[0m\u001b[1;33m)\u001b[0m\u001b[1;33m\u001b[0m\u001b[1;33m\u001b[0m\u001b[0m\n\u001b[0m\u001b[0;32m   1502\u001b[0m \u001b[1;33m\u001b[0m\u001b[0m\n\u001b[0;32m   1503\u001b[0m         \u001b[1;31m# df[[\"C\", \"D\"]]\u001b[0m\u001b[1;33m\u001b[0m\u001b[1;33m\u001b[0m\u001b[0m\n\u001b[0;32m   1504\u001b[0m         \u001b[1;32melif\u001b[0m \u001b[0misinstance\u001b[0m\u001b[1;33m(\u001b[0m\u001b[0mkey\u001b[0m\u001b[1;33m,\u001b[0m \u001b[0mlist\u001b[0m\u001b[1;33m)\u001b[0m\u001b[1;33m:\u001b[0m\u001b[1;33m\u001b[0m\u001b[1;33m\u001b[0m\u001b[0m\n",
      "\u001b[1;31mTypeError\u001b[0m: DataFrame object does not support `Series` assignment by index\n\nUse `DataFrame.with_columns`."
     ]
    }
   ],
   "source": [
    "period = 14\n",
    "\n",
    "calculate_adx(df,period)"
   ]
  },
  {
   "cell_type": "code",
   "execution_count": null,
   "id": "ab77f5f1",
   "metadata": {},
   "outputs": [],
   "source": []
  },
  {
   "cell_type": "code",
   "execution_count": null,
   "id": "43db7ff8",
   "metadata": {},
   "outputs": [
    {
     "name": "stdout",
     "output_type": "stream",
     "text": [
      "Range - 1000\n"
     ]
    }
   ],
   "source": [
    "myrange = range_selector()\n",
    "print(f\"Range - {myrange}\")"
   ]
  },
  {
   "cell_type": "code",
   "execution_count": null,
   "id": "a468e8b0",
   "metadata": {},
   "outputs": [
    {
     "data": {
      "text/html": [
       "<div>\n",
       "<style scoped>\n",
       "    .dataframe tbody tr th:only-of-type {\n",
       "        vertical-align: middle;\n",
       "    }\n",
       "\n",
       "    .dataframe tbody tr th {\n",
       "        vertical-align: top;\n",
       "    }\n",
       "\n",
       "    .dataframe thead th {\n",
       "        text-align: right;\n",
       "    }\n",
       "</style>\n",
       "<table border=\"1\" class=\"dataframe\">\n",
       "  <thead>\n",
       "    <tr style=\"text-align: right;\">\n",
       "      <th></th>\n",
       "      <th>time</th>\n",
       "      <th>open</th>\n",
       "      <th>high</th>\n",
       "      <th>low</th>\n",
       "      <th>close</th>\n",
       "      <th>tick_volume</th>\n",
       "      <th>spread</th>\n",
       "      <th>real_volume</th>\n",
       "    </tr>\n",
       "  </thead>\n",
       "  <tbody>\n",
       "    <tr>\n",
       "      <th>0</th>\n",
       "      <td>2025-07-22 21:42:00</td>\n",
       "      <td>1.17497</td>\n",
       "      <td>1.17497</td>\n",
       "      <td>1.17489</td>\n",
       "      <td>1.17490</td>\n",
       "      <td>6</td>\n",
       "      <td>8</td>\n",
       "      <td>0</td>\n",
       "    </tr>\n",
       "    <tr>\n",
       "      <th>1</th>\n",
       "      <td>2025-07-22 21:43:00</td>\n",
       "      <td>1.17490</td>\n",
       "      <td>1.17490</td>\n",
       "      <td>1.17488</td>\n",
       "      <td>1.17489</td>\n",
       "      <td>4</td>\n",
       "      <td>18</td>\n",
       "      <td>0</td>\n",
       "    </tr>\n",
       "    <tr>\n",
       "      <th>2</th>\n",
       "      <td>2025-07-22 21:44:00</td>\n",
       "      <td>1.17488</td>\n",
       "      <td>1.17491</td>\n",
       "      <td>1.17488</td>\n",
       "      <td>1.17491</td>\n",
       "      <td>12</td>\n",
       "      <td>16</td>\n",
       "      <td>0</td>\n",
       "    </tr>\n",
       "    <tr>\n",
       "      <th>3</th>\n",
       "      <td>2025-07-22 21:45:00</td>\n",
       "      <td>1.17490</td>\n",
       "      <td>1.17495</td>\n",
       "      <td>1.17489</td>\n",
       "      <td>1.17491</td>\n",
       "      <td>35</td>\n",
       "      <td>11</td>\n",
       "      <td>0</td>\n",
       "    </tr>\n",
       "    <tr>\n",
       "      <th>4</th>\n",
       "      <td>2025-07-22 21:46:00</td>\n",
       "      <td>1.17491</td>\n",
       "      <td>1.17498</td>\n",
       "      <td>1.17491</td>\n",
       "      <td>1.17497</td>\n",
       "      <td>19</td>\n",
       "      <td>8</td>\n",
       "      <td>0</td>\n",
       "    </tr>\n",
       "    <tr>\n",
       "      <th>...</th>\n",
       "      <td>...</td>\n",
       "      <td>...</td>\n",
       "      <td>...</td>\n",
       "      <td>...</td>\n",
       "      <td>...</td>\n",
       "      <td>...</td>\n",
       "      <td>...</td>\n",
       "      <td>...</td>\n",
       "    </tr>\n",
       "    <tr>\n",
       "      <th>995</th>\n",
       "      <td>2025-07-23 14:18:00</td>\n",
       "      <td>1.17265</td>\n",
       "      <td>1.17276</td>\n",
       "      <td>1.17259</td>\n",
       "      <td>1.17273</td>\n",
       "      <td>75</td>\n",
       "      <td>2</td>\n",
       "      <td>0</td>\n",
       "    </tr>\n",
       "    <tr>\n",
       "      <th>996</th>\n",
       "      <td>2025-07-23 14:19:00</td>\n",
       "      <td>1.17273</td>\n",
       "      <td>1.17285</td>\n",
       "      <td>1.17267</td>\n",
       "      <td>1.17281</td>\n",
       "      <td>94</td>\n",
       "      <td>2</td>\n",
       "      <td>0</td>\n",
       "    </tr>\n",
       "    <tr>\n",
       "      <th>997</th>\n",
       "      <td>2025-07-23 14:20:00</td>\n",
       "      <td>1.17281</td>\n",
       "      <td>1.17292</td>\n",
       "      <td>1.17279</td>\n",
       "      <td>1.17283</td>\n",
       "      <td>95</td>\n",
       "      <td>2</td>\n",
       "      <td>0</td>\n",
       "    </tr>\n",
       "    <tr>\n",
       "      <th>998</th>\n",
       "      <td>2025-07-23 14:21:00</td>\n",
       "      <td>1.17283</td>\n",
       "      <td>1.17284</td>\n",
       "      <td>1.17251</td>\n",
       "      <td>1.17254</td>\n",
       "      <td>81</td>\n",
       "      <td>2</td>\n",
       "      <td>0</td>\n",
       "    </tr>\n",
       "    <tr>\n",
       "      <th>999</th>\n",
       "      <td>2025-07-23 14:22:00</td>\n",
       "      <td>1.17254</td>\n",
       "      <td>1.17254</td>\n",
       "      <td>1.17245</td>\n",
       "      <td>1.17252</td>\n",
       "      <td>29</td>\n",
       "      <td>2</td>\n",
       "      <td>0</td>\n",
       "    </tr>\n",
       "  </tbody>\n",
       "</table>\n",
       "<p>1000 rows × 8 columns</p>\n",
       "</div>"
      ],
      "text/plain": [
       "                    time     open     high      low    close  tick_volume  \\\n",
       "0    2025-07-22 21:42:00  1.17497  1.17497  1.17489  1.17490            6   \n",
       "1    2025-07-22 21:43:00  1.17490  1.17490  1.17488  1.17489            4   \n",
       "2    2025-07-22 21:44:00  1.17488  1.17491  1.17488  1.17491           12   \n",
       "3    2025-07-22 21:45:00  1.17490  1.17495  1.17489  1.17491           35   \n",
       "4    2025-07-22 21:46:00  1.17491  1.17498  1.17491  1.17497           19   \n",
       "..                   ...      ...      ...      ...      ...          ...   \n",
       "995  2025-07-23 14:18:00  1.17265  1.17276  1.17259  1.17273           75   \n",
       "996  2025-07-23 14:19:00  1.17273  1.17285  1.17267  1.17281           94   \n",
       "997  2025-07-23 14:20:00  1.17281  1.17292  1.17279  1.17283           95   \n",
       "998  2025-07-23 14:21:00  1.17283  1.17284  1.17251  1.17254           81   \n",
       "999  2025-07-23 14:22:00  1.17254  1.17254  1.17245  1.17252           29   \n",
       "\n",
       "     spread  real_volume  \n",
       "0         8            0  \n",
       "1        18            0  \n",
       "2        16            0  \n",
       "3        11            0  \n",
       "4         8            0  \n",
       "..      ...          ...  \n",
       "995       2            0  \n",
       "996       2            0  \n",
       "997       2            0  \n",
       "998       2            0  \n",
       "999       2            0  \n",
       "\n",
       "[1000 rows x 8 columns]"
      ]
     },
     "execution_count": 37,
     "metadata": {},
     "output_type": "execute_result"
    }
   ],
   "source": [
    "df"
   ]
  },
  {
   "cell_type": "code",
   "execution_count": 39,
   "id": "c482548a",
   "metadata": {},
   "outputs": [],
   "source": [
    "import plotly.express as px"
   ]
  },
  {
   "cell_type": "code",
   "execution_count": null,
   "id": "d6b60954",
   "metadata": {},
   "outputs": [],
   "source": []
  },
  {
   "cell_type": "markdown",
   "id": "2f49d5a9",
   "metadata": {},
   "source": [
    "### Function to plot the close prices"
   ]
  },
  {
   "cell_type": "code",
   "execution_count": 40,
   "id": "87780c7b",
   "metadata": {},
   "outputs": [],
   "source": [
    "## Lets visualize the Prices\n",
    "def plot_close_prices(data):\n",
    "    fig = px.line(data,x='time',y='close',title='EURO USD - CLOSE PRICES')\n",
    "    display(fig)\n",
    "    "
   ]
  },
  {
   "cell_type": "code",
   "execution_count": 41,
   "id": "746fac13",
   "metadata": {},
   "outputs": [
    {
     "data": {
      "application/vnd.plotly.v1+json": {
       "config": {
        "plotlyServerURL": "https://plot.ly"
       },
       "data": [
        {
         "hovertemplate": "time=%{x}<br>close=%{y}<extra></extra>",
         "legendgroup": "",
         "line": {
          "color": "#636efa",
          "dash": "solid"
         },
         "marker": {
          "symbol": "circle"
         },
         "mode": "lines",
         "name": "",
         "orientation": "v",
         "showlegend": false,
         "type": "scatter",
         "x": [
          "2025-07-22 21:42:00",
          "2025-07-22 21:43:00",
          "2025-07-22 21:44:00",
          "2025-07-22 21:45:00",
          "2025-07-22 21:46:00",
          "2025-07-22 21:47:00",
          "2025-07-22 21:48:00",
          "2025-07-22 21:49:00",
          "2025-07-22 21:50:00",
          "2025-07-22 21:51:00",
          "2025-07-22 21:52:00",
          "2025-07-22 21:53:00",
          "2025-07-22 21:54:00",
          "2025-07-22 21:55:00",
          "2025-07-22 21:56:00",
          "2025-07-22 21:57:00",
          "2025-07-22 21:58:00",
          "2025-07-22 21:59:00",
          "2025-07-22 22:00:00",
          "2025-07-22 22:01:00",
          "2025-07-22 22:02:00",
          "2025-07-22 22:03:00",
          "2025-07-22 22:04:00",
          "2025-07-22 22:05:00",
          "2025-07-22 22:06:00",
          "2025-07-22 22:07:00",
          "2025-07-22 22:08:00",
          "2025-07-22 22:09:00",
          "2025-07-22 22:10:00",
          "2025-07-22 22:11:00",
          "2025-07-22 22:12:00",
          "2025-07-22 22:13:00",
          "2025-07-22 22:14:00",
          "2025-07-22 22:15:00",
          "2025-07-22 22:16:00",
          "2025-07-22 22:17:00",
          "2025-07-22 22:18:00",
          "2025-07-22 22:19:00",
          "2025-07-22 22:20:00",
          "2025-07-22 22:21:00",
          "2025-07-22 22:22:00",
          "2025-07-22 22:23:00",
          "2025-07-22 22:24:00",
          "2025-07-22 22:25:00",
          "2025-07-22 22:26:00",
          "2025-07-22 22:27:00",
          "2025-07-22 22:28:00",
          "2025-07-22 22:29:00",
          "2025-07-22 22:30:00",
          "2025-07-22 22:31:00",
          "2025-07-22 22:32:00",
          "2025-07-22 22:33:00",
          "2025-07-22 22:34:00",
          "2025-07-22 22:35:00",
          "2025-07-22 22:36:00",
          "2025-07-22 22:37:00",
          "2025-07-22 22:38:00",
          "2025-07-22 22:39:00",
          "2025-07-22 22:40:00",
          "2025-07-22 22:41:00",
          "2025-07-22 22:42:00",
          "2025-07-22 22:43:00",
          "2025-07-22 22:44:00",
          "2025-07-22 22:45:00",
          "2025-07-22 22:46:00",
          "2025-07-22 22:47:00",
          "2025-07-22 22:48:00",
          "2025-07-22 22:49:00",
          "2025-07-22 22:51:00",
          "2025-07-22 22:52:00",
          "2025-07-22 22:53:00",
          "2025-07-22 22:54:00",
          "2025-07-22 22:55:00",
          "2025-07-22 22:56:00",
          "2025-07-22 22:57:00",
          "2025-07-22 22:58:00",
          "2025-07-22 22:59:00",
          "2025-07-22 23:00:00",
          "2025-07-22 23:01:00",
          "2025-07-22 23:02:00",
          "2025-07-22 23:03:00",
          "2025-07-22 23:04:00",
          "2025-07-22 23:05:00",
          "2025-07-22 23:06:00",
          "2025-07-22 23:07:00",
          "2025-07-22 23:08:00",
          "2025-07-22 23:09:00",
          "2025-07-22 23:10:00",
          "2025-07-22 23:11:00",
          "2025-07-22 23:12:00",
          "2025-07-22 23:13:00",
          "2025-07-22 23:14:00",
          "2025-07-22 23:15:00",
          "2025-07-22 23:16:00",
          "2025-07-22 23:17:00",
          "2025-07-22 23:18:00",
          "2025-07-22 23:19:00",
          "2025-07-22 23:20:00",
          "2025-07-22 23:21:00",
          "2025-07-22 23:22:00",
          "2025-07-22 23:23:00",
          "2025-07-22 23:24:00",
          "2025-07-22 23:25:00",
          "2025-07-22 23:26:00",
          "2025-07-22 23:27:00",
          "2025-07-22 23:28:00",
          "2025-07-22 23:29:00",
          "2025-07-22 23:30:00",
          "2025-07-22 23:31:00",
          "2025-07-22 23:32:00",
          "2025-07-22 23:33:00",
          "2025-07-22 23:34:00",
          "2025-07-22 23:35:00",
          "2025-07-22 23:36:00",
          "2025-07-22 23:37:00",
          "2025-07-22 23:38:00",
          "2025-07-22 23:39:00",
          "2025-07-22 23:40:00",
          "2025-07-22 23:41:00",
          "2025-07-22 23:42:00",
          "2025-07-22 23:43:00",
          "2025-07-22 23:44:00",
          "2025-07-22 23:45:00",
          "2025-07-22 23:46:00",
          "2025-07-22 23:47:00",
          "2025-07-22 23:48:00",
          "2025-07-22 23:49:00",
          "2025-07-22 23:50:00",
          "2025-07-22 23:51:00",
          "2025-07-22 23:52:00",
          "2025-07-22 23:53:00",
          "2025-07-22 23:54:00",
          "2025-07-22 23:55:00",
          "2025-07-22 23:56:00",
          "2025-07-22 23:57:00",
          "2025-07-22 23:58:00",
          "2025-07-22 23:59:00",
          "2025-07-23 00:00:00",
          "2025-07-23 00:01:00",
          "2025-07-23 00:02:00",
          "2025-07-23 00:03:00",
          "2025-07-23 00:04:00",
          "2025-07-23 00:05:00",
          "2025-07-23 00:06:00",
          "2025-07-23 00:07:00",
          "2025-07-23 00:08:00",
          "2025-07-23 00:09:00",
          "2025-07-23 00:10:00",
          "2025-07-23 00:11:00",
          "2025-07-23 00:12:00",
          "2025-07-23 00:13:00",
          "2025-07-23 00:14:00",
          "2025-07-23 00:15:00",
          "2025-07-23 00:16:00",
          "2025-07-23 00:17:00",
          "2025-07-23 00:18:00",
          "2025-07-23 00:19:00",
          "2025-07-23 00:20:00",
          "2025-07-23 00:21:00",
          "2025-07-23 00:22:00",
          "2025-07-23 00:23:00",
          "2025-07-23 00:24:00",
          "2025-07-23 00:25:00",
          "2025-07-23 00:26:00",
          "2025-07-23 00:27:00",
          "2025-07-23 00:28:00",
          "2025-07-23 00:29:00",
          "2025-07-23 00:30:00",
          "2025-07-23 00:31:00",
          "2025-07-23 00:32:00",
          "2025-07-23 00:33:00",
          "2025-07-23 00:34:00",
          "2025-07-23 00:35:00",
          "2025-07-23 00:36:00",
          "2025-07-23 00:37:00",
          "2025-07-23 00:38:00",
          "2025-07-23 00:39:00",
          "2025-07-23 00:40:00",
          "2025-07-23 00:41:00",
          "2025-07-23 00:42:00",
          "2025-07-23 00:43:00",
          "2025-07-23 00:44:00",
          "2025-07-23 00:45:00",
          "2025-07-23 00:46:00",
          "2025-07-23 00:47:00",
          "2025-07-23 00:48:00",
          "2025-07-23 00:49:00",
          "2025-07-23 00:50:00",
          "2025-07-23 00:51:00",
          "2025-07-23 00:52:00",
          "2025-07-23 00:53:00",
          "2025-07-23 00:54:00",
          "2025-07-23 00:55:00",
          "2025-07-23 00:56:00",
          "2025-07-23 00:57:00",
          "2025-07-23 00:58:00",
          "2025-07-23 00:59:00",
          "2025-07-23 01:00:00",
          "2025-07-23 01:01:00",
          "2025-07-23 01:02:00",
          "2025-07-23 01:03:00",
          "2025-07-23 01:04:00",
          "2025-07-23 01:05:00",
          "2025-07-23 01:06:00",
          "2025-07-23 01:07:00",
          "2025-07-23 01:08:00",
          "2025-07-23 01:09:00",
          "2025-07-23 01:10:00",
          "2025-07-23 01:11:00",
          "2025-07-23 01:12:00",
          "2025-07-23 01:13:00",
          "2025-07-23 01:14:00",
          "2025-07-23 01:15:00",
          "2025-07-23 01:16:00",
          "2025-07-23 01:17:00",
          "2025-07-23 01:18:00",
          "2025-07-23 01:19:00",
          "2025-07-23 01:20:00",
          "2025-07-23 01:21:00",
          "2025-07-23 01:22:00",
          "2025-07-23 01:23:00",
          "2025-07-23 01:24:00",
          "2025-07-23 01:25:00",
          "2025-07-23 01:26:00",
          "2025-07-23 01:27:00",
          "2025-07-23 01:28:00",
          "2025-07-23 01:29:00",
          "2025-07-23 01:30:00",
          "2025-07-23 01:31:00",
          "2025-07-23 01:32:00",
          "2025-07-23 01:33:00",
          "2025-07-23 01:34:00",
          "2025-07-23 01:35:00",
          "2025-07-23 01:36:00",
          "2025-07-23 01:37:00",
          "2025-07-23 01:38:00",
          "2025-07-23 01:39:00",
          "2025-07-23 01:40:00",
          "2025-07-23 01:41:00",
          "2025-07-23 01:42:00",
          "2025-07-23 01:43:00",
          "2025-07-23 01:44:00",
          "2025-07-23 01:45:00",
          "2025-07-23 01:46:00",
          "2025-07-23 01:47:00",
          "2025-07-23 01:48:00",
          "2025-07-23 01:49:00",
          "2025-07-23 01:50:00",
          "2025-07-23 01:51:00",
          "2025-07-23 01:52:00",
          "2025-07-23 01:53:00",
          "2025-07-23 01:54:00",
          "2025-07-23 01:55:00",
          "2025-07-23 01:56:00",
          "2025-07-23 01:57:00",
          "2025-07-23 01:58:00",
          "2025-07-23 01:59:00",
          "2025-07-23 02:00:00",
          "2025-07-23 02:01:00",
          "2025-07-23 02:02:00",
          "2025-07-23 02:03:00",
          "2025-07-23 02:04:00",
          "2025-07-23 02:05:00",
          "2025-07-23 02:06:00",
          "2025-07-23 02:07:00",
          "2025-07-23 02:08:00",
          "2025-07-23 02:09:00",
          "2025-07-23 02:10:00",
          "2025-07-23 02:11:00",
          "2025-07-23 02:12:00",
          "2025-07-23 02:13:00",
          "2025-07-23 02:14:00",
          "2025-07-23 02:15:00",
          "2025-07-23 02:16:00",
          "2025-07-23 02:17:00",
          "2025-07-23 02:18:00",
          "2025-07-23 02:19:00",
          "2025-07-23 02:20:00",
          "2025-07-23 02:21:00",
          "2025-07-23 02:22:00",
          "2025-07-23 02:23:00",
          "2025-07-23 02:24:00",
          "2025-07-23 02:25:00",
          "2025-07-23 02:26:00",
          "2025-07-23 02:27:00",
          "2025-07-23 02:28:00",
          "2025-07-23 02:29:00",
          "2025-07-23 02:30:00",
          "2025-07-23 02:31:00",
          "2025-07-23 02:32:00",
          "2025-07-23 02:33:00",
          "2025-07-23 02:34:00",
          "2025-07-23 02:35:00",
          "2025-07-23 02:36:00",
          "2025-07-23 02:37:00",
          "2025-07-23 02:38:00",
          "2025-07-23 02:39:00",
          "2025-07-23 02:40:00",
          "2025-07-23 02:41:00",
          "2025-07-23 02:42:00",
          "2025-07-23 02:43:00",
          "2025-07-23 02:44:00",
          "2025-07-23 02:45:00",
          "2025-07-23 02:46:00",
          "2025-07-23 02:47:00",
          "2025-07-23 02:48:00",
          "2025-07-23 02:49:00",
          "2025-07-23 02:50:00",
          "2025-07-23 02:51:00",
          "2025-07-23 02:52:00",
          "2025-07-23 02:53:00",
          "2025-07-23 02:54:00",
          "2025-07-23 02:55:00",
          "2025-07-23 02:56:00",
          "2025-07-23 02:57:00",
          "2025-07-23 02:58:00",
          "2025-07-23 02:59:00",
          "2025-07-23 03:00:00",
          "2025-07-23 03:01:00",
          "2025-07-23 03:02:00",
          "2025-07-23 03:03:00",
          "2025-07-23 03:04:00",
          "2025-07-23 03:05:00",
          "2025-07-23 03:06:00",
          "2025-07-23 03:07:00",
          "2025-07-23 03:08:00",
          "2025-07-23 03:09:00",
          "2025-07-23 03:10:00",
          "2025-07-23 03:11:00",
          "2025-07-23 03:12:00",
          "2025-07-23 03:13:00",
          "2025-07-23 03:14:00",
          "2025-07-23 03:15:00",
          "2025-07-23 03:16:00",
          "2025-07-23 03:17:00",
          "2025-07-23 03:18:00",
          "2025-07-23 03:19:00",
          "2025-07-23 03:20:00",
          "2025-07-23 03:21:00",
          "2025-07-23 03:22:00",
          "2025-07-23 03:23:00",
          "2025-07-23 03:24:00",
          "2025-07-23 03:25:00",
          "2025-07-23 03:26:00",
          "2025-07-23 03:27:00",
          "2025-07-23 03:28:00",
          "2025-07-23 03:29:00",
          "2025-07-23 03:30:00",
          "2025-07-23 03:31:00",
          "2025-07-23 03:32:00",
          "2025-07-23 03:33:00",
          "2025-07-23 03:34:00",
          "2025-07-23 03:35:00",
          "2025-07-23 03:36:00",
          "2025-07-23 03:37:00",
          "2025-07-23 03:38:00",
          "2025-07-23 03:39:00",
          "2025-07-23 03:40:00",
          "2025-07-23 03:41:00",
          "2025-07-23 03:42:00",
          "2025-07-23 03:43:00",
          "2025-07-23 03:44:00",
          "2025-07-23 03:45:00",
          "2025-07-23 03:46:00",
          "2025-07-23 03:47:00",
          "2025-07-23 03:48:00",
          "2025-07-23 03:49:00",
          "2025-07-23 03:50:00",
          "2025-07-23 03:51:00",
          "2025-07-23 03:52:00",
          "2025-07-23 03:53:00",
          "2025-07-23 03:54:00",
          "2025-07-23 03:55:00",
          "2025-07-23 03:56:00",
          "2025-07-23 03:57:00",
          "2025-07-23 03:58:00",
          "2025-07-23 03:59:00",
          "2025-07-23 04:00:00",
          "2025-07-23 04:01:00",
          "2025-07-23 04:02:00",
          "2025-07-23 04:03:00",
          "2025-07-23 04:04:00",
          "2025-07-23 04:05:00",
          "2025-07-23 04:06:00",
          "2025-07-23 04:07:00",
          "2025-07-23 04:08:00",
          "2025-07-23 04:09:00",
          "2025-07-23 04:10:00",
          "2025-07-23 04:11:00",
          "2025-07-23 04:12:00",
          "2025-07-23 04:13:00",
          "2025-07-23 04:14:00",
          "2025-07-23 04:15:00",
          "2025-07-23 04:16:00",
          "2025-07-23 04:17:00",
          "2025-07-23 04:18:00",
          "2025-07-23 04:19:00",
          "2025-07-23 04:20:00",
          "2025-07-23 04:21:00",
          "2025-07-23 04:22:00",
          "2025-07-23 04:23:00",
          "2025-07-23 04:24:00",
          "2025-07-23 04:25:00",
          "2025-07-23 04:26:00",
          "2025-07-23 04:27:00",
          "2025-07-23 04:28:00",
          "2025-07-23 04:29:00",
          "2025-07-23 04:30:00",
          "2025-07-23 04:31:00",
          "2025-07-23 04:32:00",
          "2025-07-23 04:33:00",
          "2025-07-23 04:34:00",
          "2025-07-23 04:35:00",
          "2025-07-23 04:36:00",
          "2025-07-23 04:37:00",
          "2025-07-23 04:38:00",
          "2025-07-23 04:39:00",
          "2025-07-23 04:40:00",
          "2025-07-23 04:41:00",
          "2025-07-23 04:42:00",
          "2025-07-23 04:43:00",
          "2025-07-23 04:44:00",
          "2025-07-23 04:45:00",
          "2025-07-23 04:46:00",
          "2025-07-23 04:47:00",
          "2025-07-23 04:48:00",
          "2025-07-23 04:49:00",
          "2025-07-23 04:50:00",
          "2025-07-23 04:51:00",
          "2025-07-23 04:52:00",
          "2025-07-23 04:53:00",
          "2025-07-23 04:54:00",
          "2025-07-23 04:55:00",
          "2025-07-23 04:56:00",
          "2025-07-23 04:57:00",
          "2025-07-23 04:58:00",
          "2025-07-23 04:59:00",
          "2025-07-23 05:00:00",
          "2025-07-23 05:01:00",
          "2025-07-23 05:02:00",
          "2025-07-23 05:03:00",
          "2025-07-23 05:04:00",
          "2025-07-23 05:05:00",
          "2025-07-23 05:06:00",
          "2025-07-23 05:07:00",
          "2025-07-23 05:08:00",
          "2025-07-23 05:09:00",
          "2025-07-23 05:10:00",
          "2025-07-23 05:11:00",
          "2025-07-23 05:12:00",
          "2025-07-23 05:13:00",
          "2025-07-23 05:14:00",
          "2025-07-23 05:15:00",
          "2025-07-23 05:16:00",
          "2025-07-23 05:17:00",
          "2025-07-23 05:18:00",
          "2025-07-23 05:19:00",
          "2025-07-23 05:20:00",
          "2025-07-23 05:21:00",
          "2025-07-23 05:22:00",
          "2025-07-23 05:23:00",
          "2025-07-23 05:24:00",
          "2025-07-23 05:25:00",
          "2025-07-23 05:26:00",
          "2025-07-23 05:27:00",
          "2025-07-23 05:28:00",
          "2025-07-23 05:29:00",
          "2025-07-23 05:30:00",
          "2025-07-23 05:31:00",
          "2025-07-23 05:32:00",
          "2025-07-23 05:33:00",
          "2025-07-23 05:34:00",
          "2025-07-23 05:35:00",
          "2025-07-23 05:36:00",
          "2025-07-23 05:37:00",
          "2025-07-23 05:38:00",
          "2025-07-23 05:39:00",
          "2025-07-23 05:40:00",
          "2025-07-23 05:41:00",
          "2025-07-23 05:42:00",
          "2025-07-23 05:43:00",
          "2025-07-23 05:44:00",
          "2025-07-23 05:45:00",
          "2025-07-23 05:46:00",
          "2025-07-23 05:47:00",
          "2025-07-23 05:48:00",
          "2025-07-23 05:49:00",
          "2025-07-23 05:50:00",
          "2025-07-23 05:51:00",
          "2025-07-23 05:52:00",
          "2025-07-23 05:53:00",
          "2025-07-23 05:54:00",
          "2025-07-23 05:55:00",
          "2025-07-23 05:56:00",
          "2025-07-23 05:57:00",
          "2025-07-23 05:58:00",
          "2025-07-23 05:59:00",
          "2025-07-23 06:00:00",
          "2025-07-23 06:01:00",
          "2025-07-23 06:02:00",
          "2025-07-23 06:03:00",
          "2025-07-23 06:04:00",
          "2025-07-23 06:05:00",
          "2025-07-23 06:06:00",
          "2025-07-23 06:07:00",
          "2025-07-23 06:08:00",
          "2025-07-23 06:09:00",
          "2025-07-23 06:10:00",
          "2025-07-23 06:11:00",
          "2025-07-23 06:12:00",
          "2025-07-23 06:13:00",
          "2025-07-23 06:14:00",
          "2025-07-23 06:15:00",
          "2025-07-23 06:16:00",
          "2025-07-23 06:17:00",
          "2025-07-23 06:18:00",
          "2025-07-23 06:19:00",
          "2025-07-23 06:20:00",
          "2025-07-23 06:21:00",
          "2025-07-23 06:22:00",
          "2025-07-23 06:23:00",
          "2025-07-23 06:24:00",
          "2025-07-23 06:25:00",
          "2025-07-23 06:26:00",
          "2025-07-23 06:27:00",
          "2025-07-23 06:28:00",
          "2025-07-23 06:29:00",
          "2025-07-23 06:30:00",
          "2025-07-23 06:31:00",
          "2025-07-23 06:32:00",
          "2025-07-23 06:33:00",
          "2025-07-23 06:34:00",
          "2025-07-23 06:35:00",
          "2025-07-23 06:36:00",
          "2025-07-23 06:37:00",
          "2025-07-23 06:38:00",
          "2025-07-23 06:39:00",
          "2025-07-23 06:40:00",
          "2025-07-23 06:41:00",
          "2025-07-23 06:42:00",
          "2025-07-23 06:43:00",
          "2025-07-23 06:44:00",
          "2025-07-23 06:45:00",
          "2025-07-23 06:46:00",
          "2025-07-23 06:47:00",
          "2025-07-23 06:48:00",
          "2025-07-23 06:49:00",
          "2025-07-23 06:50:00",
          "2025-07-23 06:51:00",
          "2025-07-23 06:52:00",
          "2025-07-23 06:53:00",
          "2025-07-23 06:54:00",
          "2025-07-23 06:55:00",
          "2025-07-23 06:56:00",
          "2025-07-23 06:57:00",
          "2025-07-23 06:58:00",
          "2025-07-23 06:59:00",
          "2025-07-23 07:00:00",
          "2025-07-23 07:01:00",
          "2025-07-23 07:02:00",
          "2025-07-23 07:03:00",
          "2025-07-23 07:04:00",
          "2025-07-23 07:05:00",
          "2025-07-23 07:06:00",
          "2025-07-23 07:07:00",
          "2025-07-23 07:08:00",
          "2025-07-23 07:09:00",
          "2025-07-23 07:10:00",
          "2025-07-23 07:11:00",
          "2025-07-23 07:12:00",
          "2025-07-23 07:13:00",
          "2025-07-23 07:14:00",
          "2025-07-23 07:15:00",
          "2025-07-23 07:16:00",
          "2025-07-23 07:17:00",
          "2025-07-23 07:18:00",
          "2025-07-23 07:19:00",
          "2025-07-23 07:20:00",
          "2025-07-23 07:21:00",
          "2025-07-23 07:22:00",
          "2025-07-23 07:23:00",
          "2025-07-23 07:24:00",
          "2025-07-23 07:25:00",
          "2025-07-23 07:26:00",
          "2025-07-23 07:27:00",
          "2025-07-23 07:28:00",
          "2025-07-23 07:29:00",
          "2025-07-23 07:30:00",
          "2025-07-23 07:31:00",
          "2025-07-23 07:32:00",
          "2025-07-23 07:33:00",
          "2025-07-23 07:34:00",
          "2025-07-23 07:35:00",
          "2025-07-23 07:36:00",
          "2025-07-23 07:37:00",
          "2025-07-23 07:38:00",
          "2025-07-23 07:39:00",
          "2025-07-23 07:40:00",
          "2025-07-23 07:41:00",
          "2025-07-23 07:42:00",
          "2025-07-23 07:43:00",
          "2025-07-23 07:44:00",
          "2025-07-23 07:45:00",
          "2025-07-23 07:46:00",
          "2025-07-23 07:47:00",
          "2025-07-23 07:48:00",
          "2025-07-23 07:49:00",
          "2025-07-23 07:50:00",
          "2025-07-23 07:51:00",
          "2025-07-23 07:52:00",
          "2025-07-23 07:53:00",
          "2025-07-23 07:54:00",
          "2025-07-23 07:55:00",
          "2025-07-23 07:56:00",
          "2025-07-23 07:57:00",
          "2025-07-23 07:58:00",
          "2025-07-23 07:59:00",
          "2025-07-23 08:00:00",
          "2025-07-23 08:01:00",
          "2025-07-23 08:02:00",
          "2025-07-23 08:03:00",
          "2025-07-23 08:04:00",
          "2025-07-23 08:05:00",
          "2025-07-23 08:06:00",
          "2025-07-23 08:07:00",
          "2025-07-23 08:08:00",
          "2025-07-23 08:09:00",
          "2025-07-23 08:10:00",
          "2025-07-23 08:11:00",
          "2025-07-23 08:12:00",
          "2025-07-23 08:13:00",
          "2025-07-23 08:14:00",
          "2025-07-23 08:15:00",
          "2025-07-23 08:16:00",
          "2025-07-23 08:17:00",
          "2025-07-23 08:18:00",
          "2025-07-23 08:19:00",
          "2025-07-23 08:20:00",
          "2025-07-23 08:21:00",
          "2025-07-23 08:22:00",
          "2025-07-23 08:23:00",
          "2025-07-23 08:24:00",
          "2025-07-23 08:25:00",
          "2025-07-23 08:26:00",
          "2025-07-23 08:27:00",
          "2025-07-23 08:28:00",
          "2025-07-23 08:29:00",
          "2025-07-23 08:30:00",
          "2025-07-23 08:31:00",
          "2025-07-23 08:32:00",
          "2025-07-23 08:33:00",
          "2025-07-23 08:34:00",
          "2025-07-23 08:35:00",
          "2025-07-23 08:36:00",
          "2025-07-23 08:37:00",
          "2025-07-23 08:38:00",
          "2025-07-23 08:39:00",
          "2025-07-23 08:40:00",
          "2025-07-23 08:41:00",
          "2025-07-23 08:42:00",
          "2025-07-23 08:43:00",
          "2025-07-23 08:44:00",
          "2025-07-23 08:45:00",
          "2025-07-23 08:46:00",
          "2025-07-23 08:47:00",
          "2025-07-23 08:48:00",
          "2025-07-23 08:49:00",
          "2025-07-23 08:50:00",
          "2025-07-23 08:51:00",
          "2025-07-23 08:52:00",
          "2025-07-23 08:53:00",
          "2025-07-23 08:54:00",
          "2025-07-23 08:55:00",
          "2025-07-23 08:56:00",
          "2025-07-23 08:57:00",
          "2025-07-23 08:58:00",
          "2025-07-23 08:59:00",
          "2025-07-23 09:00:00",
          "2025-07-23 09:01:00",
          "2025-07-23 09:02:00",
          "2025-07-23 09:03:00",
          "2025-07-23 09:04:00",
          "2025-07-23 09:05:00",
          "2025-07-23 09:06:00",
          "2025-07-23 09:07:00",
          "2025-07-23 09:08:00",
          "2025-07-23 09:09:00",
          "2025-07-23 09:10:00",
          "2025-07-23 09:11:00",
          "2025-07-23 09:12:00",
          "2025-07-23 09:13:00",
          "2025-07-23 09:14:00",
          "2025-07-23 09:15:00",
          "2025-07-23 09:16:00",
          "2025-07-23 09:17:00",
          "2025-07-23 09:18:00",
          "2025-07-23 09:19:00",
          "2025-07-23 09:20:00",
          "2025-07-23 09:21:00",
          "2025-07-23 09:22:00",
          "2025-07-23 09:23:00",
          "2025-07-23 09:24:00",
          "2025-07-23 09:25:00",
          "2025-07-23 09:26:00",
          "2025-07-23 09:27:00",
          "2025-07-23 09:28:00",
          "2025-07-23 09:29:00",
          "2025-07-23 09:30:00",
          "2025-07-23 09:31:00",
          "2025-07-23 09:32:00",
          "2025-07-23 09:33:00",
          "2025-07-23 09:34:00",
          "2025-07-23 09:35:00",
          "2025-07-23 09:36:00",
          "2025-07-23 09:37:00",
          "2025-07-23 09:38:00",
          "2025-07-23 09:39:00",
          "2025-07-23 09:40:00",
          "2025-07-23 09:41:00",
          "2025-07-23 09:42:00",
          "2025-07-23 09:43:00",
          "2025-07-23 09:44:00",
          "2025-07-23 09:45:00",
          "2025-07-23 09:46:00",
          "2025-07-23 09:47:00",
          "2025-07-23 09:48:00",
          "2025-07-23 09:49:00",
          "2025-07-23 09:50:00",
          "2025-07-23 09:51:00",
          "2025-07-23 09:52:00",
          "2025-07-23 09:53:00",
          "2025-07-23 09:54:00",
          "2025-07-23 09:55:00",
          "2025-07-23 09:56:00",
          "2025-07-23 09:57:00",
          "2025-07-23 09:58:00",
          "2025-07-23 09:59:00",
          "2025-07-23 10:00:00",
          "2025-07-23 10:01:00",
          "2025-07-23 10:02:00",
          "2025-07-23 10:03:00",
          "2025-07-23 10:04:00",
          "2025-07-23 10:05:00",
          "2025-07-23 10:06:00",
          "2025-07-23 10:07:00",
          "2025-07-23 10:08:00",
          "2025-07-23 10:09:00",
          "2025-07-23 10:10:00",
          "2025-07-23 10:11:00",
          "2025-07-23 10:12:00",
          "2025-07-23 10:13:00",
          "2025-07-23 10:14:00",
          "2025-07-23 10:15:00",
          "2025-07-23 10:16:00",
          "2025-07-23 10:17:00",
          "2025-07-23 10:18:00",
          "2025-07-23 10:19:00",
          "2025-07-23 10:20:00",
          "2025-07-23 10:21:00",
          "2025-07-23 10:22:00",
          "2025-07-23 10:23:00",
          "2025-07-23 10:24:00",
          "2025-07-23 10:25:00",
          "2025-07-23 10:26:00",
          "2025-07-23 10:27:00",
          "2025-07-23 10:28:00",
          "2025-07-23 10:29:00",
          "2025-07-23 10:30:00",
          "2025-07-23 10:31:00",
          "2025-07-23 10:32:00",
          "2025-07-23 10:33:00",
          "2025-07-23 10:34:00",
          "2025-07-23 10:35:00",
          "2025-07-23 10:36:00",
          "2025-07-23 10:37:00",
          "2025-07-23 10:38:00",
          "2025-07-23 10:39:00",
          "2025-07-23 10:40:00",
          "2025-07-23 10:41:00",
          "2025-07-23 10:42:00",
          "2025-07-23 10:43:00",
          "2025-07-23 10:44:00",
          "2025-07-23 10:45:00",
          "2025-07-23 10:46:00",
          "2025-07-23 10:47:00",
          "2025-07-23 10:48:00",
          "2025-07-23 10:49:00",
          "2025-07-23 10:50:00",
          "2025-07-23 10:51:00",
          "2025-07-23 10:52:00",
          "2025-07-23 10:53:00",
          "2025-07-23 10:54:00",
          "2025-07-23 10:55:00",
          "2025-07-23 10:56:00",
          "2025-07-23 10:57:00",
          "2025-07-23 10:58:00",
          "2025-07-23 10:59:00",
          "2025-07-23 11:00:00",
          "2025-07-23 11:01:00",
          "2025-07-23 11:02:00",
          "2025-07-23 11:03:00",
          "2025-07-23 11:04:00",
          "2025-07-23 11:05:00",
          "2025-07-23 11:06:00",
          "2025-07-23 11:07:00",
          "2025-07-23 11:08:00",
          "2025-07-23 11:09:00",
          "2025-07-23 11:10:00",
          "2025-07-23 11:11:00",
          "2025-07-23 11:12:00",
          "2025-07-23 11:13:00",
          "2025-07-23 11:14:00",
          "2025-07-23 11:15:00",
          "2025-07-23 11:16:00",
          "2025-07-23 11:17:00",
          "2025-07-23 11:18:00",
          "2025-07-23 11:19:00",
          "2025-07-23 11:20:00",
          "2025-07-23 11:21:00",
          "2025-07-23 11:22:00",
          "2025-07-23 11:23:00",
          "2025-07-23 11:24:00",
          "2025-07-23 11:25:00",
          "2025-07-23 11:26:00",
          "2025-07-23 11:27:00",
          "2025-07-23 11:28:00",
          "2025-07-23 11:29:00",
          "2025-07-23 11:30:00",
          "2025-07-23 11:31:00",
          "2025-07-23 11:32:00",
          "2025-07-23 11:33:00",
          "2025-07-23 11:34:00",
          "2025-07-23 11:35:00",
          "2025-07-23 11:36:00",
          "2025-07-23 11:37:00",
          "2025-07-23 11:38:00",
          "2025-07-23 11:39:00",
          "2025-07-23 11:40:00",
          "2025-07-23 11:41:00",
          "2025-07-23 11:42:00",
          "2025-07-23 11:43:00",
          "2025-07-23 11:44:00",
          "2025-07-23 11:45:00",
          "2025-07-23 11:46:00",
          "2025-07-23 11:47:00",
          "2025-07-23 11:48:00",
          "2025-07-23 11:49:00",
          "2025-07-23 11:50:00",
          "2025-07-23 11:51:00",
          "2025-07-23 11:52:00",
          "2025-07-23 11:53:00",
          "2025-07-23 11:54:00",
          "2025-07-23 11:55:00",
          "2025-07-23 11:56:00",
          "2025-07-23 11:57:00",
          "2025-07-23 11:58:00",
          "2025-07-23 11:59:00",
          "2025-07-23 12:00:00",
          "2025-07-23 12:01:00",
          "2025-07-23 12:02:00",
          "2025-07-23 12:03:00",
          "2025-07-23 12:04:00",
          "2025-07-23 12:05:00",
          "2025-07-23 12:06:00",
          "2025-07-23 12:07:00",
          "2025-07-23 12:08:00",
          "2025-07-23 12:09:00",
          "2025-07-23 12:10:00",
          "2025-07-23 12:11:00",
          "2025-07-23 12:12:00",
          "2025-07-23 12:13:00",
          "2025-07-23 12:14:00",
          "2025-07-23 12:15:00",
          "2025-07-23 12:16:00",
          "2025-07-23 12:17:00",
          "2025-07-23 12:18:00",
          "2025-07-23 12:19:00",
          "2025-07-23 12:20:00",
          "2025-07-23 12:21:00",
          "2025-07-23 12:22:00",
          "2025-07-23 12:23:00",
          "2025-07-23 12:24:00",
          "2025-07-23 12:25:00",
          "2025-07-23 12:26:00",
          "2025-07-23 12:27:00",
          "2025-07-23 12:28:00",
          "2025-07-23 12:29:00",
          "2025-07-23 12:30:00",
          "2025-07-23 12:31:00",
          "2025-07-23 12:32:00",
          "2025-07-23 12:33:00",
          "2025-07-23 12:34:00",
          "2025-07-23 12:35:00",
          "2025-07-23 12:36:00",
          "2025-07-23 12:37:00",
          "2025-07-23 12:38:00",
          "2025-07-23 12:39:00",
          "2025-07-23 12:40:00",
          "2025-07-23 12:41:00",
          "2025-07-23 12:42:00",
          "2025-07-23 12:43:00",
          "2025-07-23 12:44:00",
          "2025-07-23 12:45:00",
          "2025-07-23 12:46:00",
          "2025-07-23 12:47:00",
          "2025-07-23 12:48:00",
          "2025-07-23 12:49:00",
          "2025-07-23 12:50:00",
          "2025-07-23 12:51:00",
          "2025-07-23 12:52:00",
          "2025-07-23 12:53:00",
          "2025-07-23 12:54:00",
          "2025-07-23 12:55:00",
          "2025-07-23 12:56:00",
          "2025-07-23 12:57:00",
          "2025-07-23 12:58:00",
          "2025-07-23 12:59:00",
          "2025-07-23 13:00:00",
          "2025-07-23 13:01:00",
          "2025-07-23 13:02:00",
          "2025-07-23 13:03:00",
          "2025-07-23 13:04:00",
          "2025-07-23 13:05:00",
          "2025-07-23 13:06:00",
          "2025-07-23 13:07:00",
          "2025-07-23 13:08:00",
          "2025-07-23 13:09:00",
          "2025-07-23 13:10:00",
          "2025-07-23 13:11:00",
          "2025-07-23 13:12:00",
          "2025-07-23 13:13:00",
          "2025-07-23 13:14:00",
          "2025-07-23 13:15:00",
          "2025-07-23 13:16:00",
          "2025-07-23 13:17:00",
          "2025-07-23 13:18:00",
          "2025-07-23 13:19:00",
          "2025-07-23 13:20:00",
          "2025-07-23 13:21:00",
          "2025-07-23 13:22:00",
          "2025-07-23 13:23:00",
          "2025-07-23 13:24:00",
          "2025-07-23 13:25:00",
          "2025-07-23 13:26:00",
          "2025-07-23 13:27:00",
          "2025-07-23 13:28:00",
          "2025-07-23 13:29:00",
          "2025-07-23 13:30:00",
          "2025-07-23 13:31:00",
          "2025-07-23 13:32:00",
          "2025-07-23 13:33:00",
          "2025-07-23 13:34:00",
          "2025-07-23 13:35:00",
          "2025-07-23 13:36:00",
          "2025-07-23 13:37:00",
          "2025-07-23 13:38:00",
          "2025-07-23 13:39:00",
          "2025-07-23 13:40:00",
          "2025-07-23 13:41:00",
          "2025-07-23 13:42:00",
          "2025-07-23 13:43:00",
          "2025-07-23 13:44:00",
          "2025-07-23 13:45:00",
          "2025-07-23 13:46:00",
          "2025-07-23 13:47:00",
          "2025-07-23 13:48:00",
          "2025-07-23 13:49:00",
          "2025-07-23 13:50:00",
          "2025-07-23 13:51:00",
          "2025-07-23 13:52:00",
          "2025-07-23 13:53:00",
          "2025-07-23 13:54:00",
          "2025-07-23 13:55:00",
          "2025-07-23 13:56:00",
          "2025-07-23 13:57:00",
          "2025-07-23 13:58:00",
          "2025-07-23 13:59:00",
          "2025-07-23 14:00:00",
          "2025-07-23 14:01:00",
          "2025-07-23 14:02:00",
          "2025-07-23 14:03:00",
          "2025-07-23 14:04:00",
          "2025-07-23 14:05:00",
          "2025-07-23 14:06:00",
          "2025-07-23 14:07:00",
          "2025-07-23 14:08:00",
          "2025-07-23 14:09:00",
          "2025-07-23 14:10:00",
          "2025-07-23 14:11:00",
          "2025-07-23 14:12:00",
          "2025-07-23 14:13:00",
          "2025-07-23 14:14:00",
          "2025-07-23 14:15:00",
          "2025-07-23 14:16:00",
          "2025-07-23 14:17:00",
          "2025-07-23 14:18:00",
          "2025-07-23 14:19:00",
          "2025-07-23 14:20:00",
          "2025-07-23 14:21:00",
          "2025-07-23 14:22:00"
         ],
         "xaxis": "x",
         "y": {
          "bdata": "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",
          "dtype": "f8"
         },
         "yaxis": "y"
        }
       ],
       "layout": {
        "legend": {
         "tracegroupgap": 0
        },
        "template": {
         "data": {
          "bar": [
           {
            "error_x": {
             "color": "#2a3f5f"
            },
            "error_y": {
             "color": "#2a3f5f"
            },
            "marker": {
             "line": {
              "color": "#E5ECF6",
              "width": 0.5
             },
             "pattern": {
              "fillmode": "overlay",
              "size": 10,
              "solidity": 0.2
             }
            },
            "type": "bar"
           }
          ],
          "barpolar": [
           {
            "marker": {
             "line": {
              "color": "#E5ECF6",
              "width": 0.5
             },
             "pattern": {
              "fillmode": "overlay",
              "size": 10,
              "solidity": 0.2
             }
            },
            "type": "barpolar"
           }
          ],
          "carpet": [
           {
            "aaxis": {
             "endlinecolor": "#2a3f5f",
             "gridcolor": "white",
             "linecolor": "white",
             "minorgridcolor": "white",
             "startlinecolor": "#2a3f5f"
            },
            "baxis": {
             "endlinecolor": "#2a3f5f",
             "gridcolor": "white",
             "linecolor": "white",
             "minorgridcolor": "white",
             "startlinecolor": "#2a3f5f"
            },
            "type": "carpet"
           }
          ],
          "choropleth": [
           {
            "colorbar": {
             "outlinewidth": 0,
             "ticks": ""
            },
            "type": "choropleth"
           }
          ],
          "contour": [
           {
            "colorbar": {
             "outlinewidth": 0,
             "ticks": ""
            },
            "colorscale": [
             [
              0,
              "#0d0887"
             ],
             [
              0.1111111111111111,
              "#46039f"
             ],
             [
              0.2222222222222222,
              "#7201a8"
             ],
             [
              0.3333333333333333,
              "#9c179e"
             ],
             [
              0.4444444444444444,
              "#bd3786"
             ],
             [
              0.5555555555555556,
              "#d8576b"
             ],
             [
              0.6666666666666666,
              "#ed7953"
             ],
             [
              0.7777777777777778,
              "#fb9f3a"
             ],
             [
              0.8888888888888888,
              "#fdca26"
             ],
             [
              1,
              "#f0f921"
             ]
            ],
            "type": "contour"
           }
          ],
          "contourcarpet": [
           {
            "colorbar": {
             "outlinewidth": 0,
             "ticks": ""
            },
            "type": "contourcarpet"
           }
          ],
          "heatmap": [
           {
            "colorbar": {
             "outlinewidth": 0,
             "ticks": ""
            },
            "colorscale": [
             [
              0,
              "#0d0887"
             ],
             [
              0.1111111111111111,
              "#46039f"
             ],
             [
              0.2222222222222222,
              "#7201a8"
             ],
             [
              0.3333333333333333,
              "#9c179e"
             ],
             [
              0.4444444444444444,
              "#bd3786"
             ],
             [
              0.5555555555555556,
              "#d8576b"
             ],
             [
              0.6666666666666666,
              "#ed7953"
             ],
             [
              0.7777777777777778,
              "#fb9f3a"
             ],
             [
              0.8888888888888888,
              "#fdca26"
             ],
             [
              1,
              "#f0f921"
             ]
            ],
            "type": "heatmap"
           }
          ],
          "histogram": [
           {
            "marker": {
             "pattern": {
              "fillmode": "overlay",
              "size": 10,
              "solidity": 0.2
             }
            },
            "type": "histogram"
           }
          ],
          "histogram2d": [
           {
            "colorbar": {
             "outlinewidth": 0,
             "ticks": ""
            },
            "colorscale": [
             [
              0,
              "#0d0887"
             ],
             [
              0.1111111111111111,
              "#46039f"
             ],
             [
              0.2222222222222222,
              "#7201a8"
             ],
             [
              0.3333333333333333,
              "#9c179e"
             ],
             [
              0.4444444444444444,
              "#bd3786"
             ],
             [
              0.5555555555555556,
              "#d8576b"
             ],
             [
              0.6666666666666666,
              "#ed7953"
             ],
             [
              0.7777777777777778,
              "#fb9f3a"
             ],
             [
              0.8888888888888888,
              "#fdca26"
             ],
             [
              1,
              "#f0f921"
             ]
            ],
            "type": "histogram2d"
           }
          ],
          "histogram2dcontour": [
           {
            "colorbar": {
             "outlinewidth": 0,
             "ticks": ""
            },
            "colorscale": [
             [
              0,
              "#0d0887"
             ],
             [
              0.1111111111111111,
              "#46039f"
             ],
             [
              0.2222222222222222,
              "#7201a8"
             ],
             [
              0.3333333333333333,
              "#9c179e"
             ],
             [
              0.4444444444444444,
              "#bd3786"
             ],
             [
              0.5555555555555556,
              "#d8576b"
             ],
             [
              0.6666666666666666,
              "#ed7953"
             ],
             [
              0.7777777777777778,
              "#fb9f3a"
             ],
             [
              0.8888888888888888,
              "#fdca26"
             ],
             [
              1,
              "#f0f921"
             ]
            ],
            "type": "histogram2dcontour"
           }
          ],
          "mesh3d": [
           {
            "colorbar": {
             "outlinewidth": 0,
             "ticks": ""
            },
            "type": "mesh3d"
           }
          ],
          "parcoords": [
           {
            "line": {
             "colorbar": {
              "outlinewidth": 0,
              "ticks": ""
             }
            },
            "type": "parcoords"
           }
          ],
          "pie": [
           {
            "automargin": true,
            "type": "pie"
           }
          ],
          "scatter": [
           {
            "fillpattern": {
             "fillmode": "overlay",
             "size": 10,
             "solidity": 0.2
            },
            "type": "scatter"
           }
          ],
          "scatter3d": [
           {
            "line": {
             "colorbar": {
              "outlinewidth": 0,
              "ticks": ""
             }
            },
            "marker": {
             "colorbar": {
              "outlinewidth": 0,
              "ticks": ""
             }
            },
            "type": "scatter3d"
           }
          ],
          "scattercarpet": [
           {
            "marker": {
             "colorbar": {
              "outlinewidth": 0,
              "ticks": ""
             }
            },
            "type": "scattercarpet"
           }
          ],
          "scattergeo": [
           {
            "marker": {
             "colorbar": {
              "outlinewidth": 0,
              "ticks": ""
             }
            },
            "type": "scattergeo"
           }
          ],
          "scattergl": [
           {
            "marker": {
             "colorbar": {
              "outlinewidth": 0,
              "ticks": ""
             }
            },
            "type": "scattergl"
           }
          ],
          "scattermap": [
           {
            "marker": {
             "colorbar": {
              "outlinewidth": 0,
              "ticks": ""
             }
            },
            "type": "scattermap"
           }
          ],
          "scattermapbox": [
           {
            "marker": {
             "colorbar": {
              "outlinewidth": 0,
              "ticks": ""
             }
            },
            "type": "scattermapbox"
           }
          ],
          "scatterpolar": [
           {
            "marker": {
             "colorbar": {
              "outlinewidth": 0,
              "ticks": ""
             }
            },
            "type": "scatterpolar"
           }
          ],
          "scatterpolargl": [
           {
            "marker": {
             "colorbar": {
              "outlinewidth": 0,
              "ticks": ""
             }
            },
            "type": "scatterpolargl"
           }
          ],
          "scatterternary": [
           {
            "marker": {
             "colorbar": {
              "outlinewidth": 0,
              "ticks": ""
             }
            },
            "type": "scatterternary"
           }
          ],
          "surface": [
           {
            "colorbar": {
             "outlinewidth": 0,
             "ticks": ""
            },
            "colorscale": [
             [
              0,
              "#0d0887"
             ],
             [
              0.1111111111111111,
              "#46039f"
             ],
             [
              0.2222222222222222,
              "#7201a8"
             ],
             [
              0.3333333333333333,
              "#9c179e"
             ],
             [
              0.4444444444444444,
              "#bd3786"
             ],
             [
              0.5555555555555556,
              "#d8576b"
             ],
             [
              0.6666666666666666,
              "#ed7953"
             ],
             [
              0.7777777777777778,
              "#fb9f3a"
             ],
             [
              0.8888888888888888,
              "#fdca26"
             ],
             [
              1,
              "#f0f921"
             ]
            ],
            "type": "surface"
           }
          ],
          "table": [
           {
            "cells": {
             "fill": {
              "color": "#EBF0F8"
             },
             "line": {
              "color": "white"
             }
            },
            "header": {
             "fill": {
              "color": "#C8D4E3"
             },
             "line": {
              "color": "white"
             }
            },
            "type": "table"
           }
          ]
         },
         "layout": {
          "annotationdefaults": {
           "arrowcolor": "#2a3f5f",
           "arrowhead": 0,
           "arrowwidth": 1
          },
          "autotypenumbers": "strict",
          "coloraxis": {
           "colorbar": {
            "outlinewidth": 0,
            "ticks": ""
           }
          },
          "colorscale": {
           "diverging": [
            [
             0,
             "#8e0152"
            ],
            [
             0.1,
             "#c51b7d"
            ],
            [
             0.2,
             "#de77ae"
            ],
            [
             0.3,
             "#f1b6da"
            ],
            [
             0.4,
             "#fde0ef"
            ],
            [
             0.5,
             "#f7f7f7"
            ],
            [
             0.6,
             "#e6f5d0"
            ],
            [
             0.7,
             "#b8e186"
            ],
            [
             0.8,
             "#7fbc41"
            ],
            [
             0.9,
             "#4d9221"
            ],
            [
             1,
             "#276419"
            ]
           ],
           "sequential": [
            [
             0,
             "#0d0887"
            ],
            [
             0.1111111111111111,
             "#46039f"
            ],
            [
             0.2222222222222222,
             "#7201a8"
            ],
            [
             0.3333333333333333,
             "#9c179e"
            ],
            [
             0.4444444444444444,
             "#bd3786"
            ],
            [
             0.5555555555555556,
             "#d8576b"
            ],
            [
             0.6666666666666666,
             "#ed7953"
            ],
            [
             0.7777777777777778,
             "#fb9f3a"
            ],
            [
             0.8888888888888888,
             "#fdca26"
            ],
            [
             1,
             "#f0f921"
            ]
           ],
           "sequentialminus": [
            [
             0,
             "#0d0887"
            ],
            [
             0.1111111111111111,
             "#46039f"
            ],
            [
             0.2222222222222222,
             "#7201a8"
            ],
            [
             0.3333333333333333,
             "#9c179e"
            ],
            [
             0.4444444444444444,
             "#bd3786"
            ],
            [
             0.5555555555555556,
             "#d8576b"
            ],
            [
             0.6666666666666666,
             "#ed7953"
            ],
            [
             0.7777777777777778,
             "#fb9f3a"
            ],
            [
             0.8888888888888888,
             "#fdca26"
            ],
            [
             1,
             "#f0f921"
            ]
           ]
          },
          "colorway": [
           "#636efa",
           "#EF553B",
           "#00cc96",
           "#ab63fa",
           "#FFA15A",
           "#19d3f3",
           "#FF6692",
           "#B6E880",
           "#FF97FF",
           "#FECB52"
          ],
          "font": {
           "color": "#2a3f5f"
          },
          "geo": {
           "bgcolor": "white",
           "lakecolor": "white",
           "landcolor": "#E5ECF6",
           "showlakes": true,
           "showland": true,
           "subunitcolor": "white"
          },
          "hoverlabel": {
           "align": "left"
          },
          "hovermode": "closest",
          "mapbox": {
           "style": "light"
          },
          "paper_bgcolor": "white",
          "plot_bgcolor": "#E5ECF6",
          "polar": {
           "angularaxis": {
            "gridcolor": "white",
            "linecolor": "white",
            "ticks": ""
           },
           "bgcolor": "#E5ECF6",
           "radialaxis": {
            "gridcolor": "white",
            "linecolor": "white",
            "ticks": ""
           }
          },
          "scene": {
           "xaxis": {
            "backgroundcolor": "#E5ECF6",
            "gridcolor": "white",
            "gridwidth": 2,
            "linecolor": "white",
            "showbackground": true,
            "ticks": "",
            "zerolinecolor": "white"
           },
           "yaxis": {
            "backgroundcolor": "#E5ECF6",
            "gridcolor": "white",
            "gridwidth": 2,
            "linecolor": "white",
            "showbackground": true,
            "ticks": "",
            "zerolinecolor": "white"
           },
           "zaxis": {
            "backgroundcolor": "#E5ECF6",
            "gridcolor": "white",
            "gridwidth": 2,
            "linecolor": "white",
            "showbackground": true,
            "ticks": "",
            "zerolinecolor": "white"
           }
          },
          "shapedefaults": {
           "line": {
            "color": "#2a3f5f"
           }
          },
          "ternary": {
           "aaxis": {
            "gridcolor": "white",
            "linecolor": "white",
            "ticks": ""
           },
           "baxis": {
            "gridcolor": "white",
            "linecolor": "white",
            "ticks": ""
           },
           "bgcolor": "#E5ECF6",
           "caxis": {
            "gridcolor": "white",
            "linecolor": "white",
            "ticks": ""
           }
          },
          "title": {
           "x": 0.05
          },
          "xaxis": {
           "automargin": true,
           "gridcolor": "white",
           "linecolor": "white",
           "ticks": "",
           "title": {
            "standoff": 15
           },
           "zerolinecolor": "white",
           "zerolinewidth": 2
          },
          "yaxis": {
           "automargin": true,
           "gridcolor": "white",
           "linecolor": "white",
           "ticks": "",
           "title": {
            "standoff": 15
           },
           "zerolinecolor": "white",
           "zerolinewidth": 2
          }
         }
        },
        "title": {
         "text": "EURO USD - CLOSE PRICES"
        },
        "xaxis": {
         "anchor": "y",
         "domain": [
          0,
          1
         ],
         "title": {
          "text": "time"
         }
        },
        "yaxis": {
         "anchor": "x",
         "domain": [
          0,
          1
         ],
         "title": {
          "text": "close"
         }
        }
       }
      }
     },
     "metadata": {},
     "output_type": "display_data"
    }
   ],
   "source": [
    "plot_close_prices(df)"
   ]
  },
  {
   "cell_type": "markdown",
   "id": "56f3a9de",
   "metadata": {},
   "source": [
    "### SMA FUNCTION"
   ]
  },
  {
   "cell_type": "code",
   "execution_count": 44,
   "id": "8f60dc9d",
   "metadata": {},
   "outputs": [],
   "source": [
    "from IPython.display import display, Markdown, Latex\n",
    "def sma(period:int,data):\n",
    "    df = data\n",
    "    sma_period = period\n",
    "    df['sma_10'] = df['close'].rolling(sma_period).mean()\n",
    "    df['sma_10']\n",
    "    display(Markdown(\"Notice as we have NaN values in the beginning as our least 20 values to calculate the SMA\"))\n",
    "    display(df[['time','close','sma_10']])\n",
    "    fig_sma = px.line(df,x='time',y=['close','sma_10'],title='SMA Indicator')\n",
    "    display(fig_sma)\n"
   ]
  },
  {
   "cell_type": "code",
   "execution_count": null,
   "id": "41dbe22a",
   "metadata": {},
   "outputs": [],
   "source": []
  }
 ],
 "metadata": {
  "kernelspec": {
   "display_name": "spyder-runtime",
   "language": "python",
   "name": "python3"
  },
  "language_info": {
   "codemirror_mode": {
    "name": "ipython",
    "version": 3
   },
   "file_extension": ".py",
   "mimetype": "text/x-python",
   "name": "python",
   "nbconvert_exporter": "python",
   "pygments_lexer": "ipython3",
   "version": "3.11.12"
  }
 },
 "nbformat": 4,
 "nbformat_minor": 5
}
